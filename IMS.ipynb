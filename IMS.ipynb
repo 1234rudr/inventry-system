{
  "nbformat": 4,
  "nbformat_minor": 0,
  "metadata": {
    "colab": {
      "name": "IMS.ipynb",
      "provenance": [],
      "collapsed_sections": []
    },
    "kernelspec": {
      "name": "python3",
      "display_name": "Python 3"
    },
    "language_info": {
      "name": "python"
    }
  },
  "cells": [
    {
      "cell_type": "code",
      "metadata": {
        "id": "3NdPDEV2hy7o"
      },
      "source": [
        "record = { 11001 : {\"Name\" : \"Toothpaste\" ,\"Price\" : \"20\",\"Quantity\" : \"60\",\"Category\" : \"Gel\"         ,\"Discount\" : \"1\"},\n",
        "           11002 : {\"Name\" : \"chocolate\"  ,\"Price\" : \"5\" ,\"Quantity\" : \"80\",\"Category\" : \"Snacks\"      ,\"Discount\" : \"2\"},\n",
        "           11003 : {\"Name\" : \"Tea powdwer\",\"Price\" : \"40\",\"Quantity\" : \"58\",\"Category\" : \"beverage\"    ,\"Discount\" : \"1\"},\n",
        "           11004 : {\"Name\" : \"maggie\"     ,\"Price\" : \"12\",\"Quantity\" : \"75\",\"Category\" : \"Snacks\"      ,\"Discount\" : \"2\"},\n",
        "           11005 : {\"Name\" : \"kurkure\"    ,\"Price\" : \"10\",\"Quantity\" : \"64\",\"Category\" : \"Snacks\"      ,\"Discount\" : \"1\"},\n",
        "           11006 : {\"Name\" : \"hairoil\"    ,\"Price\" : \"60\",\"Quantity\" : \"50\",\"Category\" : \"Oil\"         ,\"Discount\" : \"3\"},\n",
        "           11007 : {\"Name\" : \"Lays\"       ,\"Price\" : \"5\" ,\"Quantity\" : \"70\",\"Category\" : \"Snacks\"      ,\"Discount\" : \"1\"},\n",
        "           11008 : {\"Name\" : \"Pickles\"    ,\"Price\" : \"40\",\"Quantity\" : \"54\",\"Category\" : \"Spicy\"       ,\"Discount\" : \"2\"},\n",
        "           11009 : {\"Name\" : \"keychian\"   ,\"Price\" : \"20\",\"Quantity\" : \"60\",\"Category\" : \"keyholder\"   ,\"Discount\" : \"1\"},\n",
        "           11010 : {\"Name\" : \"Bun\"        ,\"Price\" : \"5\" ,\"Quantity\" : \"86\",\"Category\" : \"Bakery\"      ,\"Discount\" : \"2\"},\n",
        "           11011 : {\"Name\" : \"Biscut\"     ,\"Price\" : \"15\",\"Quantity\" : \"75\",\"Category\" : \"Bakery\"      ,\"Discount\" : \"1\"},\n",
        "           11012 : {\"Name\" : \"Souse\"      ,\"Price\" : \"25\",\"Quantity\" : \"56\",\"Category\" : \"Spicy\"       ,\"Discount\" : \"1\"},\n",
        "           11013 : {\"Name\" : \"Bread\"      ,\"Price\" : \"20\",\"Quantity\" : \"45\",\"Category\" : \"Bakery\"      ,\"Discount\" : \"2\"},\n",
        "           11014 : {\"Name\" : \"paperset\"   ,\"Price\" : \"10\",\"Quantity\" : \"55\",\"Category\" : \"----\"        ,\"Discount\" : \"1\"},\n",
        "           11015 : {\"Name\" : \"book\"       ,\"Price\" : \"15\",\"Quantity\" : \"57\",\"Category\" : \"-----\"       ,\"Discount\" : \"1\"},\n",
        "           11016 : {\"Name\" : \"Jam\"        ,\"Price\" : \"25\",\"Quantity\" : \"98\",\"Category\" : \"Fruit\"       ,\"Discount\" : \"2\"},\n",
        "           11017 : {\"Name\" : \"kinderjoy\"  ,\"Price\" : \"25\",\"Quantity\" : \"67\",\"Category\" : \"Chocolate\"   ,\"Discount\" : \"1\"},\n",
        "           11018 : {\"Name\" : \"bottel\"     ,\"Price\" : \"20\",\"Quantity\" : \"45\",\"Category\" : \"-----\"       ,\"Discount\" : \"2\"},\n",
        "           11019 : {\"Name\" : \"cardbord\"   ,\"Price\" : \"10\",\"Quantity\" : \"87\",\"Category\" : \"-----\"       ,\"Discount\" : \"2\"},\n",
        "           11020 : {\"Name\" : \"Smiley\"     ,\"Price\" : \"5\" ,\"Quantity\" : \"56\",\"Category\" : \"-----\"       ,\"Discount\" : \"1\"},\n",
        "           11021 : {\"Name\" : \"Coke\"       ,\"Price\" : \"18\",\"Quantity\" : \"76\",\"Category\" : \"Beverage\"    ,\"Discount\" : \"1\"},\n",
        "           11022 : {\"Name\" : \"Ice cream\"  ,\"Price\" : \"20\",\"Quantity\" : \"87\",\"Category\" : \"Milkproducts\",\"Discount\" : \"2\"},\n",
        "           11023 : {\"Name\" : \"jeera\"      ,\"Price\" : \"10\",\"Quantity\" : \"67\",\"Category\" : \"Food\"        ,\"Discount\" : \"1\"},\n",
        "           11024 : {\"Name\" : \"napkin\"     ,\"Price\" : \"15\",\"Quantity\" : \"87\",\"Category\" : \"-----\"       ,\"Discount\" : \"1\"},\n",
        "           11025 : {\"Name\" : \"plasic bags\",\"Price\" : \"15\",\"Quantity\" : \"86\",\"Category\" : \"-----\"       ,\"Discount\" : \"2\"},\n",
        "           11026 : {\"Name\" : \"hairband\"   ,\"Price\" : \"5\" ,\"Quantity\" : \"68\",\"Category\" : \"-----\"       ,\"Discount\" : \"2\"},\n",
        "           11027 : {\"Name\" : \"Brush\"      ,\"Price\" : \"15\",\"Quantity\" : \"98\",\"Category\" : \"-----\"       ,\"Discount\" : \"1\"},\n",
        "           11028 : {\"Name\" : \"Face Creram\",\"Price\" : \"40\",\"Quantity\" : \"67\",\"Category\" : \"Gel\"         ,\"Discount\" : \"1\"},\n",
        "           11029 : {\"Name\" : \"Gillet\"     ,\"Price\" : \"15\",\"Quantity\" : \"67\",\"Category\" : \"-----\"       ,\"Discount\" : \"2\"},\n",
        "           11030 : {\"Name\" : \"Socks\"      ,\"Price\" : \"50\",\"Quantity\" : \"67\",\"Category\" : \"------\"      ,\"Discount\" : \"1\"}}"
      ],
      "execution_count": 1,
      "outputs": []
    },
    {
      "cell_type": "code",
      "metadata": {
        "id": "_jKGpmoU4KxU"
      },
      "source": [
        "import json\n",
        "js = json.dumps(record)"
      ],
      "execution_count": 2,
      "outputs": []
    },
    {
      "cell_type": "code",
      "metadata": {
        "id": "xc70heaF6hz7"
      },
      "source": [
        "fhand = open(\"record.json\",'w')\n",
        "fhand.write(js)\n",
        "fhand.close()"
      ],
      "execution_count": 3,
      "outputs": []
    },
    {
      "cell_type": "code",
      "metadata": {
        "colab": {
          "base_uri": "https://localhost:8080/"
        },
        "id": "g_ShZ6QTBscT",
        "outputId": "ba28bdbd-4ff5-48a6-db74-a9772664710e"
      },
      "source": [
        "print(\"welcome to the shop\")\n",
        "pr_id = int(input(\"what would you like to purchase ? please enter the product Id between 11000 to 11030 :\"))\n",
        "while True:\n",
        "    if (pr_id > 11030 or pr_id<11000):\n",
        "        print(\" please enter the product Id between 11000 to 11030 :\")\n",
        "        pr_id = int(input(\"please enter the product Id between 11000 to 11030 :\"))\n",
        "    else:\n",
        "     pr_qan = int(input(\"enter the quantity :\"))\n",
        "    break    \n",
        "print(\"product\" , record[pr_id]['Name'])\n",
        "print(\"Price\" ,int (record[pr_id]['Price'])*(pr_qan) )\n",
        "print((\"discount\"),(record[pr_id]['Discount'],\"%\"))\n",
        "print(\"******************************\")\n",
        "print(\"total_bill\" ,int (record[pr_id]['Price'])*(pr_qan) - int(record[pr_id]['Discount'])/100)\n",
        "print(\"******************************\")\n",
        "record[pr_id]['Quantity'] = int(record[pr_id]['Quantity']) - pr_qan"
      ],
      "execution_count": 27,
      "outputs": [
        {
          "output_type": "stream",
          "name": "stdout",
          "text": [
            "welcome to the shop\n",
            "what would you like to purchase ? please enter the product Id between 11000 to 11030 :11025\n",
            "enter the quantity :5\n",
            "product plasic bags\n",
            "Price 75\n",
            "discount ('2', '%')\n",
            "******************************\n",
            "total_bill 74.98\n",
            "******************************\n"
          ]
        }
      ]
    },
    {
      "cell_type": "code",
      "metadata": {
        "id": "SdzKxTmajgKt"
      },
      "source": [
        "js = json.dumps(record)\n"
      ],
      "execution_count": 28,
      "outputs": []
    },
    {
      "cell_type": "code",
      "metadata": {
        "id": "yvFrfCaA1FkR"
      },
      "source": [
        "fhand = open(\"record.json\",'w')\n",
        "fhand.write(js)\n",
        "fhand.close()\n",
        "fh = open(\"record.json\",'r')\n",
        "fh.read()\n",
        "fh.close()"
      ],
      "execution_count": 29,
      "outputs": []
    },
    {
      "cell_type": "code",
      "metadata": {
        "id": "X0U_qIyI160x"
      },
      "source": [
        "sales = {1:{'Product_id':pr_id, 'Name':record[pr_id]['Name'],'Quantity':pr_qan,'amount':int(record[pr_id]['Price'])* (pr_qan),'Price':record[pr_id]['Price']}}\n",
        "{(len(sales)+1):{'Product_id':pr_id, 'Name':record[pr_id]['Name'],'Quantity':pr_qan,'amount':int(record[pr_id]['Price'])* (pr_qan),'Price':record[pr_id]['Price']}}\n",
        "sale = json.dumps(sales)\n",
        "gh = open(\"sale.json\",'a')\n",
        "gh.write(sale)\n",
        "gh.close()\n"
      ],
      "execution_count": 30,
      "outputs": []
    },
    {
      "cell_type": "code",
      "metadata": {
        "id": "6BVS0MlCIM8M"
      },
      "source": [
        ""
      ],
      "execution_count": null,
      "outputs": []
    }
  ]
}